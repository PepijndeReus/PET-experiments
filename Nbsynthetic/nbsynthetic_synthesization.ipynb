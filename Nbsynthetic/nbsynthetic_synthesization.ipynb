{
 "cells": [
  {
   "cell_type": "code",
   "execution_count": 1,
   "metadata": {},
   "outputs": [
    {
     "name": "stdout",
     "output_type": "stream",
     "text": [
      "Collecting git+https://github.com/NextBrain-ai/nbsynthetic.git\n",
      "  Cloning https://github.com/NextBrain-ai/nbsynthetic.git to /private/var/folders/th/lhv5svr57tl9sd7p465ddg3h0000gn/T/pip-req-build-wd2fuk7x\n",
      "  Running command git clone --filter=blob:none --quiet https://github.com/NextBrain-ai/nbsynthetic.git /private/var/folders/th/lhv5svr57tl9sd7p465ddg3h0000gn/T/pip-req-build-wd2fuk7x\n",
      "  Resolved https://github.com/NextBrain-ai/nbsynthetic.git to commit 9241207e521ade47c54cff6fcf3d3d368a8efb01\n",
      "  Preparing metadata (setup.py) ... \u001b[?25ldone\n",
      "\u001b[?25hRequirement already satisfied: numpy>=1.21.6 in /Users/kyradresen/opt/anaconda3/lib/python3.9/site-packages (from nbsynthetic==0.2.0) (1.26.4)\n",
      "Requirement already satisfied: pandas>=1.3.5 in /Users/kyradresen/opt/anaconda3/lib/python3.9/site-packages (from nbsynthetic==0.2.0) (2.2.0)\n",
      "Requirement already satisfied: scikit-learn>=1.0.2 in /Users/kyradresen/opt/anaconda3/lib/python3.9/site-packages (from nbsynthetic==0.2.0) (1.0.2)\n",
      "Requirement already satisfied: scipy>=1.7.3 in /Users/kyradresen/opt/anaconda3/lib/python3.9/site-packages (from nbsynthetic==0.2.0) (1.10.1)\n",
      "Requirement already satisfied: tensorflow>=2.8.2 in /Users/kyradresen/opt/anaconda3/lib/python3.9/site-packages (from nbsynthetic==0.2.0) (2.15.0)\n",
      "Requirement already satisfied: keras>=2.8.0 in /Users/kyradresen/opt/anaconda3/lib/python3.9/site-packages (from nbsynthetic==0.2.0) (2.15.0)\n",
      "Requirement already satisfied: tqdm>=4.64.0 in /Users/kyradresen/opt/anaconda3/lib/python3.9/site-packages (from nbsynthetic==0.2.0) (4.64.1)\n",
      "Requirement already satisfied: plotly>=5.5.0 in /Users/kyradresen/opt/anaconda3/lib/python3.9/site-packages (from nbsynthetic==0.2.0) (5.9.0)\n",
      "Collecting ripser>=0.6.4 (from nbsynthetic==0.2.0)\n",
      "  Downloading ripser-0.6.10.tar.gz (98 kB)\n",
      "\u001b[2K     \u001b[90m━━━━━━━━━━━━━━━━━━━━━━━━━━━━━━━━━━━━━━━━\u001b[0m \u001b[32m98.5/98.5 kB\u001b[0m \u001b[31m2.1 MB/s\u001b[0m eta \u001b[36m0:00:00\u001b[0ma \u001b[36m0:00:01\u001b[0m\n",
      "\u001b[?25h  Installing build dependencies ... \u001b[?25ldone\n",
      "\u001b[?25h  Getting requirements to build wheel ... \u001b[?25ldone\n",
      "\u001b[?25h  Preparing metadata (pyproject.toml) ... \u001b[?25ldone\n",
      "\u001b[?25hRequirement already satisfied: python-dateutil>=2.8.2 in /Users/kyradresen/opt/anaconda3/lib/python3.9/site-packages (from pandas>=1.3.5->nbsynthetic==0.2.0) (2.8.2)\n",
      "Requirement already satisfied: pytz>=2020.1 in /Users/kyradresen/opt/anaconda3/lib/python3.9/site-packages (from pandas>=1.3.5->nbsynthetic==0.2.0) (2022.1)\n",
      "Requirement already satisfied: tzdata>=2022.7 in /Users/kyradresen/opt/anaconda3/lib/python3.9/site-packages (from pandas>=1.3.5->nbsynthetic==0.2.0) (2023.4)\n",
      "Requirement already satisfied: tenacity>=6.2.0 in /Users/kyradresen/opt/anaconda3/lib/python3.9/site-packages (from plotly>=5.5.0->nbsynthetic==0.2.0) (8.2.3)\n",
      "Requirement already satisfied: Cython in /Users/kyradresen/opt/anaconda3/lib/python3.9/site-packages (from ripser>=0.6.4->nbsynthetic==0.2.0) (0.29.32)\n",
      "Collecting persim (from ripser>=0.6.4->nbsynthetic==0.2.0)\n",
      "  Downloading persim-0.3.5-py3-none-any.whl.metadata (3.5 kB)\n",
      "Requirement already satisfied: joblib>=0.11 in /Users/kyradresen/opt/anaconda3/lib/python3.9/site-packages (from scikit-learn>=1.0.2->nbsynthetic==0.2.0) (1.2.0)\n",
      "Requirement already satisfied: threadpoolctl>=2.0.0 in /Users/kyradresen/opt/anaconda3/lib/python3.9/site-packages (from scikit-learn>=1.0.2->nbsynthetic==0.2.0) (2.2.0)\n",
      "Requirement already satisfied: absl-py>=1.0.0 in /Users/kyradresen/opt/anaconda3/lib/python3.9/site-packages (from tensorflow>=2.8.2->nbsynthetic==0.2.0) (2.1.0)\n",
      "Requirement already satisfied: astunparse>=1.6.0 in /Users/kyradresen/opt/anaconda3/lib/python3.9/site-packages (from tensorflow>=2.8.2->nbsynthetic==0.2.0) (1.6.3)\n",
      "Requirement already satisfied: flatbuffers>=23.5.26 in /Users/kyradresen/opt/anaconda3/lib/python3.9/site-packages (from tensorflow>=2.8.2->nbsynthetic==0.2.0) (23.5.26)\n",
      "Requirement already satisfied: gast!=0.5.0,!=0.5.1,!=0.5.2,>=0.2.1 in /Users/kyradresen/opt/anaconda3/lib/python3.9/site-packages (from tensorflow>=2.8.2->nbsynthetic==0.2.0) (0.5.4)\n",
      "Requirement already satisfied: google-pasta>=0.1.1 in /Users/kyradresen/opt/anaconda3/lib/python3.9/site-packages (from tensorflow>=2.8.2->nbsynthetic==0.2.0) (0.2.0)\n",
      "Requirement already satisfied: h5py>=2.9.0 in /Users/kyradresen/opt/anaconda3/lib/python3.9/site-packages (from tensorflow>=2.8.2->nbsynthetic==0.2.0) (3.7.0)\n",
      "Requirement already satisfied: libclang>=13.0.0 in /Users/kyradresen/opt/anaconda3/lib/python3.9/site-packages (from tensorflow>=2.8.2->nbsynthetic==0.2.0) (16.0.6)\n",
      "Requirement already satisfied: ml-dtypes~=0.2.0 in /Users/kyradresen/opt/anaconda3/lib/python3.9/site-packages (from tensorflow>=2.8.2->nbsynthetic==0.2.0) (0.2.0)\n",
      "Requirement already satisfied: opt-einsum>=2.3.2 in /Users/kyradresen/opt/anaconda3/lib/python3.9/site-packages (from tensorflow>=2.8.2->nbsynthetic==0.2.0) (3.3.0)\n",
      "Requirement already satisfied: packaging in /Users/kyradresen/opt/anaconda3/lib/python3.9/site-packages (from tensorflow>=2.8.2->nbsynthetic==0.2.0) (21.3)\n",
      "Requirement already satisfied: protobuf!=4.21.0,!=4.21.1,!=4.21.2,!=4.21.3,!=4.21.4,!=4.21.5,<5.0.0dev,>=3.20.3 in /Users/kyradresen/opt/anaconda3/lib/python3.9/site-packages (from tensorflow>=2.8.2->nbsynthetic==0.2.0) (3.20.3)\n",
      "Requirement already satisfied: setuptools in /Users/kyradresen/opt/anaconda3/lib/python3.9/site-packages (from tensorflow>=2.8.2->nbsynthetic==0.2.0) (69.0.2)\n",
      "Requirement already satisfied: six>=1.12.0 in /Users/kyradresen/opt/anaconda3/lib/python3.9/site-packages (from tensorflow>=2.8.2->nbsynthetic==0.2.0) (1.16.0)\n",
      "Requirement already satisfied: termcolor>=1.1.0 in /Users/kyradresen/opt/anaconda3/lib/python3.9/site-packages (from tensorflow>=2.8.2->nbsynthetic==0.2.0) (2.4.0)\n",
      "Requirement already satisfied: typing-extensions>=3.6.6 in /Users/kyradresen/opt/anaconda3/lib/python3.9/site-packages (from tensorflow>=2.8.2->nbsynthetic==0.2.0) (4.11.0)\n",
      "Requirement already satisfied: wrapt<1.15,>=1.11.0 in /Users/kyradresen/opt/anaconda3/lib/python3.9/site-packages (from tensorflow>=2.8.2->nbsynthetic==0.2.0) (1.14.1)\n",
      "Requirement already satisfied: tensorflow-io-gcs-filesystem>=0.23.1 in /Users/kyradresen/opt/anaconda3/lib/python3.9/site-packages (from tensorflow>=2.8.2->nbsynthetic==0.2.0) (0.36.0)\n",
      "Requirement already satisfied: grpcio<2.0,>=1.24.3 in /Users/kyradresen/opt/anaconda3/lib/python3.9/site-packages (from tensorflow>=2.8.2->nbsynthetic==0.2.0) (1.62.0)\n",
      "Requirement already satisfied: tensorboard<2.16,>=2.15 in /Users/kyradresen/opt/anaconda3/lib/python3.9/site-packages (from tensorflow>=2.8.2->nbsynthetic==0.2.0) (2.15.2)\n",
      "Requirement already satisfied: tensorflow-estimator<2.16,>=2.15.0 in /Users/kyradresen/opt/anaconda3/lib/python3.9/site-packages (from tensorflow>=2.8.2->nbsynthetic==0.2.0) (2.15.0)\n",
      "Requirement already satisfied: wheel<1.0,>=0.23.0 in /Users/kyradresen/opt/anaconda3/lib/python3.9/site-packages (from astunparse>=1.6.0->tensorflow>=2.8.2->nbsynthetic==0.2.0) (0.37.1)\n",
      "Requirement already satisfied: google-auth<3,>=1.6.3 in /Users/kyradresen/opt/anaconda3/lib/python3.9/site-packages (from tensorboard<2.16,>=2.15->tensorflow>=2.8.2->nbsynthetic==0.2.0) (2.28.1)\n",
      "Requirement already satisfied: google-auth-oauthlib<2,>=0.5 in /Users/kyradresen/opt/anaconda3/lib/python3.9/site-packages (from tensorboard<2.16,>=2.15->tensorflow>=2.8.2->nbsynthetic==0.2.0) (1.2.0)\n",
      "Requirement already satisfied: markdown>=2.6.8 in /Users/kyradresen/opt/anaconda3/lib/python3.9/site-packages (from tensorboard<2.16,>=2.15->tensorflow>=2.8.2->nbsynthetic==0.2.0) (3.3.4)\n",
      "Requirement already satisfied: requests<3,>=2.21.0 in /Users/kyradresen/opt/anaconda3/lib/python3.9/site-packages (from tensorboard<2.16,>=2.15->tensorflow>=2.8.2->nbsynthetic==0.2.0) (2.28.1)\n",
      "Requirement already satisfied: tensorboard-data-server<0.8.0,>=0.7.0 in /Users/kyradresen/opt/anaconda3/lib/python3.9/site-packages (from tensorboard<2.16,>=2.15->tensorflow>=2.8.2->nbsynthetic==0.2.0) (0.7.2)\n",
      "Requirement already satisfied: werkzeug>=1.0.1 in /Users/kyradresen/opt/anaconda3/lib/python3.9/site-packages (from tensorboard<2.16,>=2.15->tensorflow>=2.8.2->nbsynthetic==0.2.0) (2.0.3)\n",
      "Requirement already satisfied: pyparsing!=3.0.5,>=2.0.2 in /Users/kyradresen/opt/anaconda3/lib/python3.9/site-packages (from packaging->tensorflow>=2.8.2->nbsynthetic==0.2.0) (3.0.9)\n",
      "Requirement already satisfied: matplotlib in /Users/kyradresen/opt/anaconda3/lib/python3.9/site-packages (from persim->ripser>=0.6.4->nbsynthetic==0.2.0) (3.9.0)\n",
      "Collecting hopcroftkarp (from persim->ripser>=0.6.4->nbsynthetic==0.2.0)\n",
      "  Downloading hopcroftkarp-1.2.5.tar.gz (16 kB)\n",
      "  Preparing metadata (setup.py) ... \u001b[?25ldone\n",
      "\u001b[?25hCollecting deprecated (from persim->ripser>=0.6.4->nbsynthetic==0.2.0)\n",
      "  Downloading Deprecated-1.2.14-py2.py3-none-any.whl.metadata (5.4 kB)\n",
      "Requirement already satisfied: cachetools<6.0,>=2.0.0 in /Users/kyradresen/opt/anaconda3/lib/python3.9/site-packages (from google-auth<3,>=1.6.3->tensorboard<2.16,>=2.15->tensorflow>=2.8.2->nbsynthetic==0.2.0) (5.3.2)\n",
      "Requirement already satisfied: pyasn1-modules>=0.2.1 in /Users/kyradresen/opt/anaconda3/lib/python3.9/site-packages (from google-auth<3,>=1.6.3->tensorboard<2.16,>=2.15->tensorflow>=2.8.2->nbsynthetic==0.2.0) (0.2.8)\n",
      "Requirement already satisfied: rsa<5,>=3.1.4 in /Users/kyradresen/opt/anaconda3/lib/python3.9/site-packages (from google-auth<3,>=1.6.3->tensorboard<2.16,>=2.15->tensorflow>=2.8.2->nbsynthetic==0.2.0) (4.9)\n",
      "Requirement already satisfied: requests-oauthlib>=0.7.0 in /Users/kyradresen/opt/anaconda3/lib/python3.9/site-packages (from google-auth-oauthlib<2,>=0.5->tensorboard<2.16,>=2.15->tensorflow>=2.8.2->nbsynthetic==0.2.0) (1.3.1)\n",
      "Requirement already satisfied: charset-normalizer<3,>=2 in /Users/kyradresen/opt/anaconda3/lib/python3.9/site-packages (from requests<3,>=2.21.0->tensorboard<2.16,>=2.15->tensorflow>=2.8.2->nbsynthetic==0.2.0) (2.0.4)\n",
      "Requirement already satisfied: idna<4,>=2.5 in /Users/kyradresen/opt/anaconda3/lib/python3.9/site-packages (from requests<3,>=2.21.0->tensorboard<2.16,>=2.15->tensorflow>=2.8.2->nbsynthetic==0.2.0) (3.3)\n",
      "Requirement already satisfied: urllib3<1.27,>=1.21.1 in /Users/kyradresen/opt/anaconda3/lib/python3.9/site-packages (from requests<3,>=2.21.0->tensorboard<2.16,>=2.15->tensorflow>=2.8.2->nbsynthetic==0.2.0) (1.26.11)\n",
      "Requirement already satisfied: certifi>=2017.4.17 in /Users/kyradresen/opt/anaconda3/lib/python3.9/site-packages (from requests<3,>=2.21.0->tensorboard<2.16,>=2.15->tensorflow>=2.8.2->nbsynthetic==0.2.0) (2022.9.24)\n",
      "Requirement already satisfied: contourpy>=1.0.1 in /Users/kyradresen/opt/anaconda3/lib/python3.9/site-packages (from matplotlib->persim->ripser>=0.6.4->nbsynthetic==0.2.0) (1.2.1)\n",
      "Requirement already satisfied: cycler>=0.10 in /Users/kyradresen/opt/anaconda3/lib/python3.9/site-packages (from matplotlib->persim->ripser>=0.6.4->nbsynthetic==0.2.0) (0.11.0)\n",
      "Requirement already satisfied: fonttools>=4.22.0 in /Users/kyradresen/opt/anaconda3/lib/python3.9/site-packages (from matplotlib->persim->ripser>=0.6.4->nbsynthetic==0.2.0) (4.25.0)\n",
      "Requirement already satisfied: kiwisolver>=1.3.1 in /Users/kyradresen/opt/anaconda3/lib/python3.9/site-packages (from matplotlib->persim->ripser>=0.6.4->nbsynthetic==0.2.0) (1.4.2)\n",
      "Requirement already satisfied: pillow>=8 in /Users/kyradresen/opt/anaconda3/lib/python3.9/site-packages (from matplotlib->persim->ripser>=0.6.4->nbsynthetic==0.2.0) (9.2.0)\n",
      "Requirement already satisfied: importlib-resources>=3.2.0 in /Users/kyradresen/opt/anaconda3/lib/python3.9/site-packages (from matplotlib->persim->ripser>=0.6.4->nbsynthetic==0.2.0) (6.4.0)\n",
      "Requirement already satisfied: zipp>=3.1.0 in /Users/kyradresen/opt/anaconda3/lib/python3.9/site-packages (from importlib-resources>=3.2.0->matplotlib->persim->ripser>=0.6.4->nbsynthetic==0.2.0) (3.8.0)\n",
      "Requirement already satisfied: pyasn1<0.5.0,>=0.4.6 in /Users/kyradresen/opt/anaconda3/lib/python3.9/site-packages (from pyasn1-modules>=0.2.1->google-auth<3,>=1.6.3->tensorboard<2.16,>=2.15->tensorflow>=2.8.2->nbsynthetic==0.2.0) (0.4.8)\n",
      "Requirement already satisfied: oauthlib>=3.0.0 in /Users/kyradresen/opt/anaconda3/lib/python3.9/site-packages (from requests-oauthlib>=0.7.0->google-auth-oauthlib<2,>=0.5->tensorboard<2.16,>=2.15->tensorflow>=2.8.2->nbsynthetic==0.2.0) (3.2.2)\n",
      "Downloading persim-0.3.5-py3-none-any.whl (48 kB)\n",
      "\u001b[2K   \u001b[90m━━━━━━━━━━━━━━━━━━━━━━━━━━━━━━━━━━━━━━━━\u001b[0m \u001b[32m48.6/48.6 kB\u001b[0m \u001b[31m2.7 MB/s\u001b[0m eta \u001b[36m0:00:00\u001b[0m\n",
      "\u001b[?25hDownloading Deprecated-1.2.14-py2.py3-none-any.whl (9.6 kB)\n",
      "Building wheels for collected packages: nbsynthetic, ripser, hopcroftkarp\n",
      "  Building wheel for nbsynthetic (setup.py) ... \u001b[?25ldone\n",
      "\u001b[?25h  Created wheel for nbsynthetic: filename=nbsynthetic-0.2.0-py3-none-any.whl size=35882 sha256=afee420bcc46e68da938e98ace41c0fcc8849020df43404e1c8ffb6ad17c68a8\n",
      "  Stored in directory: /private/var/folders/th/lhv5svr57tl9sd7p465ddg3h0000gn/T/pip-ephem-wheel-cache-xiyf2pru/wheels/47/f5/82/9a225af4aec0f96493b792e2babd39e6402dfda4845ab6decc\n",
      "  Building wheel for ripser (pyproject.toml) ... \u001b[?25ldone\n",
      "\u001b[?25h  Created wheel for ripser: filename=ripser-0.6.10-cp39-cp39-macosx_10_9_x86_64.whl size=151004 sha256=0694c8f57df9dec92abe8ff80c998584c11702a0e78a551ae9d229e3ae496b32\n",
      "  Stored in directory: /Users/kyradresen/Library/Caches/pip/wheels/ab/e0/8a/c786f668f798307ccb7b7c636f52c716da255c0dbe257f7219\n",
      "  Building wheel for hopcroftkarp (setup.py) ... \u001b[?25ldone\n",
      "\u001b[?25h  Created wheel for hopcroftkarp: filename=hopcroftkarp-1.2.5-py2.py3-none-any.whl size=18102 sha256=241b959df8e475bfb792f5fcea73546b331c39906f86ccf57cc7c46d4ba64fbe\n",
      "  Stored in directory: /Users/kyradresen/Library/Caches/pip/wheels/57/16/69/97f76cd294aad962fc5e1a15ab19c07fd885016deda8f200c3\n",
      "Successfully built nbsynthetic ripser hopcroftkarp\n",
      "Installing collected packages: hopcroftkarp, deprecated, persim, ripser, nbsynthetic\n",
      "Successfully installed deprecated-1.2.14 hopcroftkarp-1.2.5 nbsynthetic-0.2.0 persim-0.3.5 ripser-0.6.10\n",
      "\n",
      "\u001b[1m[\u001b[0m\u001b[34;49mnotice\u001b[0m\u001b[1;39;49m]\u001b[0m\u001b[39;49m A new release of pip is available: \u001b[0m\u001b[31;49m24.0\u001b[0m\u001b[39;49m -> \u001b[0m\u001b[32;49m24.1.2\u001b[0m\n",
      "\u001b[1m[\u001b[0m\u001b[34;49mnotice\u001b[0m\u001b[1;39;49m]\u001b[0m\u001b[39;49m To update, run: \u001b[0m\u001b[32;49mpip install --upgrade pip\u001b[0m\n",
      "Note: you may need to restart the kernel to use updated packages.\n"
     ]
    }
   ],
   "source": [
    "pip install git+https://github.com/NextBrain-ai/nbsynthetic.git"
   ]
  },
  {
   "cell_type": "code",
   "execution_count": 3,
   "metadata": {},
   "outputs": [],
   "source": [
    "from nbsynthetic.data import input_data\n",
    "from nbsynthetic.data_preparation import SmartBrain"
   ]
  },
  {
   "cell_type": "markdown",
   "metadata": {},
   "source": [
    "## Load Data\n",
    "\n",
    "Note: nbsynthetic includes a module that can perform all of the transformations described above: nbsynthetic.data_transformation.SmartBrain: -Assigns datatypes correctly and deletes id columns.  -Removes columns with a large percentage of NaN values, replaces NaN values where possible; and rejects the remaining when replacement was not possible.  -Encodes categorial features.  -And finally, this module is able to augment the dataset when the dataset length is too short or the ratio of data length to number of features is small. "
   ]
  },
  {
   "cell_type": "code",
   "execution_count": 6,
   "metadata": {},
   "outputs": [],
   "source": [
    "df = input_data('student-por', decimal=',')\n",
    "SB = SmartBrain() \n",
    "df = SB.nbEncode(df) #GAN input data"
   ]
  },
  {
   "cell_type": "markdown",
   "metadata": {},
   "source": [
    "## Create a GAN instance"
   ]
  },
  {
   "cell_type": "code",
   "execution_count": 8,
   "metadata": {},
   "outputs": [
    {
     "ename": "",
     "evalue": "",
     "output_type": "error",
     "traceback": [
      "\u001b[1;31mThe Kernel crashed while executing code in the the current cell or a previous cell. Please review the code in the cell(s) to identify a possible cause of the failure. Click <a href='https://aka.ms/vscodeJupyterKernelCrash'>here</a> for more info. View Jupyter <a href='command:jupyter.viewOutput'>log</a> for further details."
     ]
    }
   ],
   "source": [
    "from nbsynthetic.vgan import GAN"
   ]
  },
  {
   "cell_type": "code",
   "execution_count": null,
   "metadata": {},
   "outputs": [],
   "source": []
  }
 ],
 "metadata": {
  "kernelspec": {
   "display_name": "base",
   "language": "python",
   "name": "python3"
  },
  "language_info": {
   "codemirror_mode": {
    "name": "ipython",
    "version": 3
   },
   "file_extension": ".py",
   "mimetype": "text/x-python",
   "name": "python",
   "nbconvert_exporter": "python",
   "pygments_lexer": "ipython3",
   "version": "3.9.13"
  }
 },
 "nbformat": 4,
 "nbformat_minor": 2
}
