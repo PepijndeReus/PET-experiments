{
 "cells": [
  {
   "cell_type": "code",
   "execution_count": 2,
   "metadata": {},
   "outputs": [
    {
     "name": "stdout",
     "output_type": "stream",
     "text": [
      "Requirement already satisfied: synthcity in /Users/kyradresen/opt/anaconda3/lib/python3.9/site-packages (0.2.10)\n",
      "Requirement already satisfied: importlib-metadata in /Users/kyradresen/opt/anaconda3/lib/python3.9/site-packages (from synthcity) (4.11.3)\n",
      "Requirement already satisfied: pandas<2,>=1.4 in /Users/kyradresen/opt/anaconda3/lib/python3.9/site-packages (from synthcity) (1.5.3)\n",
      "Requirement already satisfied: torch<2.0,>=1.10.0 in /Users/kyradresen/opt/anaconda3/lib/python3.9/site-packages (from synthcity) (1.13.1)\n",
      "Requirement already satisfied: scikit-learn>=1.2 in /Users/kyradresen/opt/anaconda3/lib/python3.9/site-packages (from synthcity) (1.5.1)\n",
      "Requirement already satisfied: nflows>=0.14 in /Users/kyradresen/opt/anaconda3/lib/python3.9/site-packages (from synthcity) (0.14)\n",
      "Requirement already satisfied: numpy<1.24,>=1.20 in /Users/kyradresen/opt/anaconda3/lib/python3.9/site-packages (from synthcity) (1.23.5)\n",
      "Requirement already satisfied: lifelines!=0.27.5,<0.27.8,>=0.27 in /Users/kyradresen/opt/anaconda3/lib/python3.9/site-packages (from synthcity) (0.27.7)\n",
      "Requirement already satisfied: opacus>=1.3 in /Users/kyradresen/opt/anaconda3/lib/python3.9/site-packages (from synthcity) (1.4.0)\n",
      "Requirement already satisfied: decaf-synthetic-data>=0.1.6 in /Users/kyradresen/opt/anaconda3/lib/python3.9/site-packages (from synthcity) (0.1.6)\n",
      "Requirement already satisfied: optuna>=3.1 in /Users/kyradresen/opt/anaconda3/lib/python3.9/site-packages (from synthcity) (3.6.1)\n",
      "Requirement already satisfied: shap in /Users/kyradresen/opt/anaconda3/lib/python3.9/site-packages (from synthcity) (0.46.0)\n",
      "Requirement already satisfied: tqdm in /Users/kyradresen/opt/anaconda3/lib/python3.9/site-packages (from synthcity) (4.64.1)\n",
      "Requirement already satisfied: loguru in /Users/kyradresen/opt/anaconda3/lib/python3.9/site-packages (from synthcity) (0.7.2)\n",
      "Requirement already satisfied: pydantic<2.0 in /Users/kyradresen/opt/anaconda3/lib/python3.9/site-packages (from synthcity) (1.8.2)\n",
      "Requirement already satisfied: cloudpickle in /Users/kyradresen/opt/anaconda3/lib/python3.9/site-packages (from synthcity) (3.0.0)\n",
      "Requirement already satisfied: scipy in /Users/kyradresen/opt/anaconda3/lib/python3.9/site-packages (from synthcity) (1.10.1)\n",
      "Requirement already satisfied: xgboost<2.0.0 in /Users/kyradresen/opt/anaconda3/lib/python3.9/site-packages (from synthcity) (1.7.6)\n",
      "Requirement already satisfied: geomloss in /Users/kyradresen/opt/anaconda3/lib/python3.9/site-packages (from synthcity) (0.2.6)\n",
      "Requirement already satisfied: pgmpy in /Users/kyradresen/opt/anaconda3/lib/python3.9/site-packages (from synthcity) (0.1.25)\n",
      "Requirement already satisfied: redis in /Users/kyradresen/opt/anaconda3/lib/python3.9/site-packages (from synthcity) (5.0.7)\n",
      "Requirement already satisfied: pycox in /Users/kyradresen/opt/anaconda3/lib/python3.9/site-packages (from synthcity) (0.2.3)\n",
      "Requirement already satisfied: xgbse in /Users/kyradresen/opt/anaconda3/lib/python3.9/site-packages (from synthcity) (0.2.3)\n",
      "Requirement already satisfied: pykeops in /Users/kyradresen/opt/anaconda3/lib/python3.9/site-packages (from synthcity) (2.2.3)\n",
      "Requirement already satisfied: fflows in /Users/kyradresen/opt/anaconda3/lib/python3.9/site-packages (from synthcity) (0.0.3)\n",
      "Requirement already satisfied: monai in /Users/kyradresen/opt/anaconda3/lib/python3.9/site-packages (from synthcity) (1.3.2)\n",
      "Requirement already satisfied: arfpy in /Users/kyradresen/opt/anaconda3/lib/python3.9/site-packages (from synthcity) (0.1.1)\n",
      "Requirement already satisfied: tsai in /Users/kyradresen/opt/anaconda3/lib/python3.9/site-packages (from synthcity) (0.3.9)\n",
      "Requirement already satisfied: be-great>=0.0.5 in /Users/kyradresen/opt/anaconda3/lib/python3.9/site-packages (from synthcity) (0.0.7)\n",
      "Requirement already satisfied: datasets>=2.5.2 in /Users/kyradresen/opt/anaconda3/lib/python3.9/site-packages (from be-great>=0.0.5->synthcity) (2.18.0)\n",
      "Requirement already satisfied: transformers>=4.22.1 in /Users/kyradresen/opt/anaconda3/lib/python3.9/site-packages (from be-great>=0.0.5->synthcity) (4.39.3)\n",
      "Requirement already satisfied: accelerate>=0.20.1 in /Users/kyradresen/opt/anaconda3/lib/python3.9/site-packages (from be-great>=0.0.5->synthcity) (0.32.1)\n",
      "Requirement already satisfied: networkx<3.0,>=2.0 in /Users/kyradresen/opt/anaconda3/lib/python3.9/site-packages (from decaf-synthetic-data>=0.1.6->synthcity) (2.8.8)\n",
      "Requirement already satisfied: pytorch-lightning<2.0 in /Users/kyradresen/opt/anaconda3/lib/python3.9/site-packages (from decaf-synthetic-data>=0.1.6->synthcity) (1.9.5)\n",
      "Requirement already satisfied: torchtext>=0.10 in /Users/kyradresen/opt/anaconda3/lib/python3.9/site-packages (from decaf-synthetic-data>=0.1.6->synthcity) (0.14.1)\n",
      "Requirement already satisfied: matplotlib>=3.0 in /Users/kyradresen/opt/anaconda3/lib/python3.9/site-packages (from lifelines!=0.27.5,<0.27.8,>=0.27->synthcity) (3.9.0)\n",
      "Requirement already satisfied: autograd>=1.5 in /Users/kyradresen/opt/anaconda3/lib/python3.9/site-packages (from lifelines!=0.27.5,<0.27.8,>=0.27->synthcity) (1.6.2)\n",
      "Requirement already satisfied: autograd-gamma>=0.3 in /Users/kyradresen/opt/anaconda3/lib/python3.9/site-packages (from lifelines!=0.27.5,<0.27.8,>=0.27->synthcity) (0.5.0)\n",
      "Requirement already satisfied: formulaic>=0.2.2 in /Users/kyradresen/opt/anaconda3/lib/python3.9/site-packages (from lifelines!=0.27.5,<0.27.8,>=0.27->synthcity) (1.0.2)\n",
      "Requirement already satisfied: tensorboard in /Users/kyradresen/opt/anaconda3/lib/python3.9/site-packages (from nflows>=0.14->synthcity) (2.15.2)\n",
      "Requirement already satisfied: opt-einsum>=3.3.0 in /Users/kyradresen/opt/anaconda3/lib/python3.9/site-packages (from opacus>=1.3->synthcity) (3.3.0)\n",
      "Requirement already satisfied: alembic>=1.5.0 in /Users/kyradresen/opt/anaconda3/lib/python3.9/site-packages (from optuna>=3.1->synthcity) (1.13.2)\n",
      "Requirement already satisfied: colorlog in /Users/kyradresen/opt/anaconda3/lib/python3.9/site-packages (from optuna>=3.1->synthcity) (6.8.2)\n",
      "Requirement already satisfied: packaging>=20.0 in /Users/kyradresen/opt/anaconda3/lib/python3.9/site-packages (from optuna>=3.1->synthcity) (21.3)\n",
      "Requirement already satisfied: sqlalchemy>=1.3.0 in /Users/kyradresen/opt/anaconda3/lib/python3.9/site-packages (from optuna>=3.1->synthcity) (2.0.30)\n",
      "Requirement already satisfied: PyYAML in /Users/kyradresen/opt/anaconda3/lib/python3.9/site-packages (from optuna>=3.1->synthcity) (6.0.1)\n",
      "Requirement already satisfied: python-dateutil>=2.8.1 in /Users/kyradresen/opt/anaconda3/lib/python3.9/site-packages (from pandas<2,>=1.4->synthcity) (2.8.2)\n",
      "Requirement already satisfied: pytz>=2020.1 in /Users/kyradresen/opt/anaconda3/lib/python3.9/site-packages (from pandas<2,>=1.4->synthcity) (2022.1)\n",
      "Requirement already satisfied: typing-extensions>=3.7.4.3 in /Users/kyradresen/opt/anaconda3/lib/python3.9/site-packages (from pydantic<2.0->synthcity) (4.11.0)\n",
      "Requirement already satisfied: joblib>=1.2.0 in /Users/kyradresen/opt/anaconda3/lib/python3.9/site-packages (from scikit-learn>=1.2->synthcity) (1.2.0)\n",
      "Requirement already satisfied: threadpoolctl>=3.1.0 in /Users/kyradresen/opt/anaconda3/lib/python3.9/site-packages (from scikit-learn>=1.2->synthcity) (3.5.0)\n",
      "Requirement already satisfied: zipp>=0.5 in /Users/kyradresen/opt/anaconda3/lib/python3.9/site-packages (from importlib-metadata->synthcity) (3.8.0)\n",
      "Requirement already satisfied: pyparsing in /Users/kyradresen/opt/anaconda3/lib/python3.9/site-packages (from pgmpy->synthcity) (3.0.9)\n",
      "Requirement already satisfied: statsmodels in /Users/kyradresen/opt/anaconda3/lib/python3.9/site-packages (from pgmpy->synthcity) (0.14.1)\n",
      "Requirement already satisfied: torchtuples>=0.2.0 in /Users/kyradresen/opt/anaconda3/lib/python3.9/site-packages (from pycox->synthcity) (0.2.2)\n",
      "Requirement already satisfied: feather-format>=0.4.0 in /Users/kyradresen/opt/anaconda3/lib/python3.9/site-packages (from pycox->synthcity) (0.4.1)\n",
      "Requirement already satisfied: h5py>=2.9.0 in /Users/kyradresen/opt/anaconda3/lib/python3.9/site-packages (from pycox->synthcity) (3.7.0)\n",
      "Requirement already satisfied: numba>=0.44 in /Users/kyradresen/opt/anaconda3/lib/python3.9/site-packages (from pycox->synthcity) (0.60.0)\n",
      "Requirement already satisfied: requests>=2.22.0 in /Users/kyradresen/opt/anaconda3/lib/python3.9/site-packages (from pycox->synthcity) (2.28.1)\n",
      "Requirement already satisfied: py7zr>=0.11.3 in /Users/kyradresen/opt/anaconda3/lib/python3.9/site-packages (from pycox->synthcity) (0.21.1)\n",
      "Requirement already satisfied: pybind11 in /Users/kyradresen/opt/anaconda3/lib/python3.9/site-packages (from pykeops->synthcity) (2.6.1)\n",
      "Requirement already satisfied: keopscore==2.2.3 in /Users/kyradresen/opt/anaconda3/lib/python3.9/site-packages (from pykeops->synthcity) (2.2.3)\n",
      "Requirement already satisfied: async-timeout>=4.0.3 in /Users/kyradresen/opt/anaconda3/lib/python3.9/site-packages (from redis->synthcity) (4.0.3)\n",
      "Requirement already satisfied: slicer==0.0.8 in /Users/kyradresen/opt/anaconda3/lib/python3.9/site-packages (from shap->synthcity) (0.0.8)\n",
      "Requirement already satisfied: fastai>=2.7.14 in /Users/kyradresen/opt/anaconda3/lib/python3.9/site-packages (from tsai->synthcity) (2.7.15)\n",
      "Requirement already satisfied: pyts>=0.12.0 in /Users/kyradresen/opt/anaconda3/lib/python3.9/site-packages (from tsai->synthcity) (0.13.0)\n",
      "Requirement already satisfied: imbalanced-learn>=0.11.0 in /Users/kyradresen/opt/anaconda3/lib/python3.9/site-packages (from tsai->synthcity) (0.12.3)\n",
      "Requirement already satisfied: psutil>=5.4.8 in /Users/kyradresen/opt/anaconda3/lib/python3.9/site-packages (from tsai->synthcity) (5.9.0)\n",
      "Requirement already satisfied: huggingface-hub in /Users/kyradresen/opt/anaconda3/lib/python3.9/site-packages (from accelerate>=0.20.1->be-great>=0.0.5->synthcity) (0.22.2)\n",
      "Requirement already satisfied: safetensors>=0.3.1 in /Users/kyradresen/opt/anaconda3/lib/python3.9/site-packages (from accelerate>=0.20.1->be-great>=0.0.5->synthcity) (0.4.2)\n",
      "Requirement already satisfied: Mako in /Users/kyradresen/opt/anaconda3/lib/python3.9/site-packages (from alembic>=1.5.0->optuna>=3.1->synthcity) (1.3.5)\n",
      "Requirement already satisfied: future>=0.15.2 in /Users/kyradresen/opt/anaconda3/lib/python3.9/site-packages (from autograd>=1.5->lifelines!=0.27.5,<0.27.8,>=0.27->synthcity) (0.18.2)\n",
      "Requirement already satisfied: filelock in /Users/kyradresen/opt/anaconda3/lib/python3.9/site-packages (from datasets>=2.5.2->be-great>=0.0.5->synthcity) (3.13.1)\n",
      "Requirement already satisfied: pyarrow>=12.0.0 in /Users/kyradresen/opt/anaconda3/lib/python3.9/site-packages (from datasets>=2.5.2->be-great>=0.0.5->synthcity) (14.0.2)\n",
      "Requirement already satisfied: pyarrow-hotfix in /Users/kyradresen/opt/anaconda3/lib/python3.9/site-packages (from datasets>=2.5.2->be-great>=0.0.5->synthcity) (0.6)\n",
      "Requirement already satisfied: dill<0.3.9,>=0.3.0 in /Users/kyradresen/opt/anaconda3/lib/python3.9/site-packages (from datasets>=2.5.2->be-great>=0.0.5->synthcity) (0.3.8)\n",
      "Requirement already satisfied: xxhash in /Users/kyradresen/opt/anaconda3/lib/python3.9/site-packages (from datasets>=2.5.2->be-great>=0.0.5->synthcity) (3.4.1)\n",
      "Requirement already satisfied: multiprocess in /Users/kyradresen/opt/anaconda3/lib/python3.9/site-packages (from datasets>=2.5.2->be-great>=0.0.5->synthcity) (0.70.16)\n",
      "Requirement already satisfied: fsspec<=2024.2.0,>=2023.1.0 in /Users/kyradresen/opt/anaconda3/lib/python3.9/site-packages (from fsspec[http]<=2024.2.0,>=2023.1.0->datasets>=2.5.2->be-great>=0.0.5->synthcity) (2024.2.0)\n",
      "Requirement already satisfied: aiohttp in /Users/kyradresen/opt/anaconda3/lib/python3.9/site-packages (from datasets>=2.5.2->be-great>=0.0.5->synthcity) (3.9.3)\n",
      "Requirement already satisfied: pip in /Users/kyradresen/opt/anaconda3/lib/python3.9/site-packages (from fastai>=2.7.14->tsai->synthcity) (24.0)\n",
      "Requirement already satisfied: fastdownload<2,>=0.0.5 in /Users/kyradresen/opt/anaconda3/lib/python3.9/site-packages (from fastai>=2.7.14->tsai->synthcity) (0.0.7)\n",
      "Requirement already satisfied: fastcore<1.6,>=1.5.29 in /Users/kyradresen/opt/anaconda3/lib/python3.9/site-packages (from fastai>=2.7.14->tsai->synthcity) (1.5.54)\n",
      "Requirement already satisfied: torchvision>=0.11 in /Users/kyradresen/opt/anaconda3/lib/python3.9/site-packages (from fastai>=2.7.14->tsai->synthcity) (0.14.1)\n",
      "Requirement already satisfied: fastprogress>=0.2.4 in /Users/kyradresen/opt/anaconda3/lib/python3.9/site-packages (from fastai>=2.7.14->tsai->synthcity) (1.0.3)\n",
      "Requirement already satisfied: pillow>=9.0.0 in /Users/kyradresen/opt/anaconda3/lib/python3.9/site-packages (from fastai>=2.7.14->tsai->synthcity) (9.2.0)\n",
      "Requirement already satisfied: spacy<4 in /Users/kyradresen/opt/anaconda3/lib/python3.9/site-packages (from fastai>=2.7.14->tsai->synthcity) (3.0.9)\n",
      "Requirement already satisfied: interface-meta>=1.2.0 in /Users/kyradresen/opt/anaconda3/lib/python3.9/site-packages (from formulaic>=0.2.2->lifelines!=0.27.5,<0.27.8,>=0.27->synthcity) (1.3.0)\n",
      "Requirement already satisfied: wrapt>=1.0 in /Users/kyradresen/opt/anaconda3/lib/python3.9/site-packages (from formulaic>=0.2.2->lifelines!=0.27.5,<0.27.8,>=0.27->synthcity) (1.14.1)\n",
      "Requirement already satisfied: contourpy>=1.0.1 in /Users/kyradresen/opt/anaconda3/lib/python3.9/site-packages (from matplotlib>=3.0->lifelines!=0.27.5,<0.27.8,>=0.27->synthcity) (1.2.1)\n",
      "Requirement already satisfied: cycler>=0.10 in /Users/kyradresen/opt/anaconda3/lib/python3.9/site-packages (from matplotlib>=3.0->lifelines!=0.27.5,<0.27.8,>=0.27->synthcity) (0.11.0)\n",
      "Requirement already satisfied: fonttools>=4.22.0 in /Users/kyradresen/opt/anaconda3/lib/python3.9/site-packages (from matplotlib>=3.0->lifelines!=0.27.5,<0.27.8,>=0.27->synthcity) (4.25.0)\n",
      "Requirement already satisfied: kiwisolver>=1.3.1 in /Users/kyradresen/opt/anaconda3/lib/python3.9/site-packages (from matplotlib>=3.0->lifelines!=0.27.5,<0.27.8,>=0.27->synthcity) (1.4.2)\n",
      "Requirement already satisfied: importlib-resources>=3.2.0 in /Users/kyradresen/opt/anaconda3/lib/python3.9/site-packages (from matplotlib>=3.0->lifelines!=0.27.5,<0.27.8,>=0.27->synthcity) (6.4.0)\n",
      "Requirement already satisfied: llvmlite<0.44,>=0.43.0dev0 in /Users/kyradresen/opt/anaconda3/lib/python3.9/site-packages (from numba>=0.44->pycox->synthcity) (0.43.0)\n",
      "Requirement already satisfied: texttable in /Users/kyradresen/opt/anaconda3/lib/python3.9/site-packages (from py7zr>=0.11.3->pycox->synthcity) (1.7.0)\n",
      "Requirement already satisfied: pycryptodomex>=3.16.0 in /Users/kyradresen/opt/anaconda3/lib/python3.9/site-packages (from py7zr>=0.11.3->pycox->synthcity) (3.20.0)\n",
      "Requirement already satisfied: pyzstd>=0.15.9 in /Users/kyradresen/opt/anaconda3/lib/python3.9/site-packages (from py7zr>=0.11.3->pycox->synthcity) (0.16.0)\n",
      "Requirement already satisfied: pyppmd<1.2.0,>=1.1.0 in /Users/kyradresen/opt/anaconda3/lib/python3.9/site-packages (from py7zr>=0.11.3->pycox->synthcity) (1.1.0)\n",
      "Requirement already satisfied: pybcj<1.1.0,>=1.0.0 in /Users/kyradresen/opt/anaconda3/lib/python3.9/site-packages (from py7zr>=0.11.3->pycox->synthcity) (1.0.2)\n",
      "Requirement already satisfied: multivolumefile>=0.2.3 in /Users/kyradresen/opt/anaconda3/lib/python3.9/site-packages (from py7zr>=0.11.3->pycox->synthcity) (0.2.3)\n",
      "Requirement already satisfied: inflate64<1.1.0,>=1.0.0 in /Users/kyradresen/opt/anaconda3/lib/python3.9/site-packages (from py7zr>=0.11.3->pycox->synthcity) (1.0.0)\n",
      "Requirement already satisfied: brotli>=1.1.0 in /Users/kyradresen/opt/anaconda3/lib/python3.9/site-packages (from py7zr>=0.11.3->pycox->synthcity) (1.1.0)\n",
      "Requirement already satisfied: six>=1.5 in /Users/kyradresen/opt/anaconda3/lib/python3.9/site-packages (from python-dateutil>=2.8.1->pandas<2,>=1.4->synthcity) (1.16.0)\n",
      "Requirement already satisfied: torchmetrics>=0.7.0 in /Users/kyradresen/opt/anaconda3/lib/python3.9/site-packages (from pytorch-lightning<2.0->decaf-synthetic-data>=0.1.6->synthcity) (1.4.0.post0)\n",
      "Requirement already satisfied: lightning-utilities>=0.6.0.post0 in /Users/kyradresen/opt/anaconda3/lib/python3.9/site-packages (from pytorch-lightning<2.0->decaf-synthetic-data>=0.1.6->synthcity) (0.11.5)\n",
      "Requirement already satisfied: charset-normalizer<3,>=2 in /Users/kyradresen/opt/anaconda3/lib/python3.9/site-packages (from requests>=2.22.0->pycox->synthcity) (2.0.4)\n",
      "Requirement already satisfied: idna<4,>=2.5 in /Users/kyradresen/opt/anaconda3/lib/python3.9/site-packages (from requests>=2.22.0->pycox->synthcity) (3.3)\n",
      "Requirement already satisfied: urllib3<1.27,>=1.21.1 in /Users/kyradresen/opt/anaconda3/lib/python3.9/site-packages (from requests>=2.22.0->pycox->synthcity) (1.26.11)\n",
      "Requirement already satisfied: certifi>=2017.4.17 in /Users/kyradresen/opt/anaconda3/lib/python3.9/site-packages (from requests>=2.22.0->pycox->synthcity) (2022.9.24)\n",
      "Requirement already satisfied: greenlet!=0.4.17 in /Users/kyradresen/opt/anaconda3/lib/python3.9/site-packages (from sqlalchemy>=1.3.0->optuna>=3.1->synthcity) (1.1.1)\n",
      "Requirement already satisfied: regex!=2019.12.17 in /Users/kyradresen/opt/anaconda3/lib/python3.9/site-packages (from transformers>=4.22.1->be-great>=0.0.5->synthcity) (2022.7.9)\n",
      "Requirement already satisfied: tokenizers<0.19,>=0.14 in /Users/kyradresen/opt/anaconda3/lib/python3.9/site-packages (from transformers>=4.22.1->be-great>=0.0.5->synthcity) (0.15.2)\n",
      "Requirement already satisfied: patsy>=0.5.4 in /Users/kyradresen/opt/anaconda3/lib/python3.9/site-packages (from statsmodels->pgmpy->synthcity) (0.5.6)\n",
      "Requirement already satisfied: absl-py>=0.4 in /Users/kyradresen/opt/anaconda3/lib/python3.9/site-packages (from tensorboard->nflows>=0.14->synthcity) (2.1.0)\n",
      "Requirement already satisfied: grpcio>=1.48.2 in /Users/kyradresen/opt/anaconda3/lib/python3.9/site-packages (from tensorboard->nflows>=0.14->synthcity) (1.62.0)\n",
      "Requirement already satisfied: google-auth<3,>=1.6.3 in /Users/kyradresen/opt/anaconda3/lib/python3.9/site-packages (from tensorboard->nflows>=0.14->synthcity) (2.28.1)\n",
      "Requirement already satisfied: google-auth-oauthlib<2,>=0.5 in /Users/kyradresen/opt/anaconda3/lib/python3.9/site-packages (from tensorboard->nflows>=0.14->synthcity) (1.2.0)\n",
      "Requirement already satisfied: markdown>=2.6.8 in /Users/kyradresen/opt/anaconda3/lib/python3.9/site-packages (from tensorboard->nflows>=0.14->synthcity) (3.3.4)\n",
      "Requirement already satisfied: protobuf!=4.24.0,>=3.19.6 in /Users/kyradresen/opt/anaconda3/lib/python3.9/site-packages (from tensorboard->nflows>=0.14->synthcity) (3.20.3)\n",
      "Requirement already satisfied: setuptools>=41.0.0 in /Users/kyradresen/opt/anaconda3/lib/python3.9/site-packages (from tensorboard->nflows>=0.14->synthcity) (69.0.2)\n",
      "Requirement already satisfied: tensorboard-data-server<0.8.0,>=0.7.0 in /Users/kyradresen/opt/anaconda3/lib/python3.9/site-packages (from tensorboard->nflows>=0.14->synthcity) (0.7.2)\n",
      "Requirement already satisfied: werkzeug>=1.0.1 in /Users/kyradresen/opt/anaconda3/lib/python3.9/site-packages (from tensorboard->nflows>=0.14->synthcity) (2.0.3)\n",
      "Requirement already satisfied: aiosignal>=1.1.2 in /Users/kyradresen/opt/anaconda3/lib/python3.9/site-packages (from aiohttp->datasets>=2.5.2->be-great>=0.0.5->synthcity) (1.3.1)\n",
      "Requirement already satisfied: attrs>=17.3.0 in /Users/kyradresen/opt/anaconda3/lib/python3.9/site-packages (from aiohttp->datasets>=2.5.2->be-great>=0.0.5->synthcity) (21.4.0)\n",
      "Requirement already satisfied: frozenlist>=1.1.1 in /Users/kyradresen/opt/anaconda3/lib/python3.9/site-packages (from aiohttp->datasets>=2.5.2->be-great>=0.0.5->synthcity) (1.4.1)\n",
      "Requirement already satisfied: multidict<7.0,>=4.5 in /Users/kyradresen/opt/anaconda3/lib/python3.9/site-packages (from aiohttp->datasets>=2.5.2->be-great>=0.0.5->synthcity) (6.0.5)\n",
      "Requirement already satisfied: yarl<2.0,>=1.0 in /Users/kyradresen/opt/anaconda3/lib/python3.9/site-packages (from aiohttp->datasets>=2.5.2->be-great>=0.0.5->synthcity) (1.9.4)\n",
      "Requirement already satisfied: cachetools<6.0,>=2.0.0 in /Users/kyradresen/opt/anaconda3/lib/python3.9/site-packages (from google-auth<3,>=1.6.3->tensorboard->nflows>=0.14->synthcity) (5.3.2)\n",
      "Requirement already satisfied: pyasn1-modules>=0.2.1 in /Users/kyradresen/opt/anaconda3/lib/python3.9/site-packages (from google-auth<3,>=1.6.3->tensorboard->nflows>=0.14->synthcity) (0.2.8)\n",
      "Requirement already satisfied: rsa<5,>=3.1.4 in /Users/kyradresen/opt/anaconda3/lib/python3.9/site-packages (from google-auth<3,>=1.6.3->tensorboard->nflows>=0.14->synthcity) (4.9)\n",
      "Requirement already satisfied: requests-oauthlib>=0.7.0 in /Users/kyradresen/opt/anaconda3/lib/python3.9/site-packages (from google-auth-oauthlib<2,>=0.5->tensorboard->nflows>=0.14->synthcity) (1.3.1)\n",
      "Requirement already satisfied: spacy-legacy<3.1.0,>=3.0.5 in /Users/kyradresen/opt/anaconda3/lib/python3.9/site-packages (from spacy<4->fastai>=2.7.14->tsai->synthcity) (3.0.12)\n",
      "Requirement already satisfied: murmurhash<1.1.0,>=0.28.0 in /Users/kyradresen/opt/anaconda3/lib/python3.9/site-packages (from spacy<4->fastai>=2.7.14->tsai->synthcity) (1.0.10)\n",
      "Requirement already satisfied: cymem<2.1.0,>=2.0.2 in /Users/kyradresen/opt/anaconda3/lib/python3.9/site-packages (from spacy<4->fastai>=2.7.14->tsai->synthcity) (2.0.8)\n",
      "Requirement already satisfied: preshed<3.1.0,>=3.0.2 in /Users/kyradresen/opt/anaconda3/lib/python3.9/site-packages (from spacy<4->fastai>=2.7.14->tsai->synthcity) (3.0.9)\n",
      "Requirement already satisfied: thinc<8.1.0,>=8.0.3 in /Users/kyradresen/opt/anaconda3/lib/python3.9/site-packages (from spacy<4->fastai>=2.7.14->tsai->synthcity) (8.0.17)\n",
      "Requirement already satisfied: blis<0.8.0,>=0.4.0 in /Users/kyradresen/opt/anaconda3/lib/python3.9/site-packages (from spacy<4->fastai>=2.7.14->tsai->synthcity) (0.7.11)\n",
      "Requirement already satisfied: wasabi<1.1.0,>=0.8.1 in /Users/kyradresen/opt/anaconda3/lib/python3.9/site-packages (from spacy<4->fastai>=2.7.14->tsai->synthcity) (0.10.1)\n",
      "Requirement already satisfied: srsly<3.0.0,>=2.4.1 in /Users/kyradresen/opt/anaconda3/lib/python3.9/site-packages (from spacy<4->fastai>=2.7.14->tsai->synthcity) (2.4.8)\n",
      "Requirement already satisfied: catalogue<2.1.0,>=2.0.4 in /Users/kyradresen/opt/anaconda3/lib/python3.9/site-packages (from spacy<4->fastai>=2.7.14->tsai->synthcity) (2.0.10)\n",
      "Requirement already satisfied: typer<0.4.0,>=0.3.0 in /Users/kyradresen/opt/anaconda3/lib/python3.9/site-packages (from spacy<4->fastai>=2.7.14->tsai->synthcity) (0.3.2)\n",
      "Requirement already satisfied: pathy>=0.3.5 in /Users/kyradresen/opt/anaconda3/lib/python3.9/site-packages (from spacy<4->fastai>=2.7.14->tsai->synthcity) (0.11.0)\n",
      "Requirement already satisfied: smart-open<7.0.0,>=5.2.1 in /Users/kyradresen/opt/anaconda3/lib/python3.9/site-packages (from spacy<4->fastai>=2.7.14->tsai->synthcity) (5.2.1)\n",
      "Requirement already satisfied: jinja2 in /Users/kyradresen/opt/anaconda3/lib/python3.9/site-packages (from spacy<4->fastai>=2.7.14->tsai->synthcity) (2.11.3)\n",
      "Requirement already satisfied: MarkupSafe>=0.9.2 in /Users/kyradresen/opt/anaconda3/lib/python3.9/site-packages (from Mako->alembic>=1.5.0->optuna>=3.1->synthcity) (2.0.1)\n",
      "Requirement already satisfied: pathlib-abc==0.1.1 in /Users/kyradresen/opt/anaconda3/lib/python3.9/site-packages (from pathy>=0.3.5->spacy<4->fastai>=2.7.14->tsai->synthcity) (0.1.1)\n",
      "Requirement already satisfied: pyasn1<0.5.0,>=0.4.6 in /Users/kyradresen/opt/anaconda3/lib/python3.9/site-packages (from pyasn1-modules>=0.2.1->google-auth<3,>=1.6.3->tensorboard->nflows>=0.14->synthcity) (0.4.8)\n",
      "Requirement already satisfied: oauthlib>=3.0.0 in /Users/kyradresen/opt/anaconda3/lib/python3.9/site-packages (from requests-oauthlib>=0.7.0->google-auth-oauthlib<2,>=0.5->tensorboard->nflows>=0.14->synthcity) (3.2.2)\n",
      "Requirement already satisfied: click<7.2.0,>=7.1.1 in /Users/kyradresen/opt/anaconda3/lib/python3.9/site-packages (from typer<0.4.0,>=0.3.0->spacy<4->fastai>=2.7.14->tsai->synthcity) (7.1.2)\n",
      "\u001b[33mDEPRECATION: xgbse 0.2.3 has a non-standard dependency specifier pandas>=1.0.*. pip 24.1 will enforce this behaviour change. A possible replacement is to upgrade to a newer version of xgbse or contact the author to suggest that they release a version with a conforming dependency specifiers. Discussion can be found at https://github.com/pypa/pip/issues/12063\u001b[0m\u001b[33m\n",
      "\u001b[0m\n",
      "\u001b[1m[\u001b[0m\u001b[34;49mnotice\u001b[0m\u001b[1;39;49m]\u001b[0m\u001b[39;49m A new release of pip is available: \u001b[0m\u001b[31;49m24.0\u001b[0m\u001b[39;49m -> \u001b[0m\u001b[32;49m24.1.2\u001b[0m\n",
      "\u001b[1m[\u001b[0m\u001b[34;49mnotice\u001b[0m\u001b[1;39;49m]\u001b[0m\u001b[39;49m To update, run: \u001b[0m\u001b[32;49mpip install --upgrade pip\u001b[0m\n"
     ]
    }
   ],
   "source": [
    "# Install the library. Might need to restart the runtime after installing some dependencies.\n",
    "!pip install synthcity"
   ]
  },
  {
   "cell_type": "code",
   "execution_count": 6,
   "metadata": {},
   "outputs": [],
   "source": [
    "import pandas as pd\n",
    "\n",
    "# stdlib\n",
    "import sys\n",
    "import warnings\n",
    "\n",
    "warnings.filterwarnings(\"ignore\")\n",
    "\n",
    "\n",
    "# synthcity absolute\n",
    "import synthcity.logger as log\n",
    "from synthcity.plugins import Plugins\n",
    "from synthcity.plugins.core.dataloader import GenericDataLoader\n",
    "\n",
    "log.add(sink=sys.stderr, level=\"INFO\")"
   ]
  },
  {
   "cell_type": "code",
   "execution_count": 4,
   "metadata": {},
   "outputs": [],
   "source": [
    "data = pd.read_csv('/Users/kyradresen/PET-experiments/Data/Student/student-por.csv')"
   ]
  },
  {
   "cell_type": "code",
   "execution_count": 5,
   "metadata": {},
   "outputs": [
    {
     "name": "stdout",
     "output_type": "stream",
     "text": [
      "    school sex  age address famsize Pstatus  Medu  Fedu      Mjob      Fjob  \\\n",
      "0       GP   F   18       U     GT3       A     4     4   at_home   teacher   \n",
      "1       GP   F   17       U     GT3       T     1     1   at_home     other   \n",
      "2       GP   F   15       U     LE3       T     1     1   at_home     other   \n",
      "3       GP   F   15       U     GT3       T     4     2    health  services   \n",
      "4       GP   F   16       U     GT3       T     3     3     other     other   \n",
      "..     ...  ..  ...     ...     ...     ...   ...   ...       ...       ...   \n",
      "644     MS   F   19       R     GT3       T     2     3  services     other   \n",
      "645     MS   F   18       U     LE3       T     3     1   teacher  services   \n",
      "646     MS   F   18       U     GT3       T     1     1     other     other   \n",
      "647     MS   M   17       U     LE3       T     3     1  services  services   \n",
      "648     MS   M   18       R     LE3       T     3     2  services     other   \n",
      "\n",
      "     ... famrel freetime  goout  Dalc  Walc health absences  G2  G3 target  \n",
      "0    ...      4        3      4     1     1      3        4  11  11      0  \n",
      "1    ...      5        3      3     1     1      3        2  11  11      9  \n",
      "2    ...      4        3      2     2     3      3        6  13  12     12  \n",
      "3    ...      3        2      2     1     1      5        0  14  14     14  \n",
      "4    ...      4        3      2     1     2      5        0  13  13     11  \n",
      "..   ...    ...      ...    ...   ...   ...    ...      ...  ..  ..    ...  \n",
      "644  ...      5        4      2     1     2      5        4  11  10     10  \n",
      "645  ...      4        3      4     1     1      1        4  15  16     15  \n",
      "646  ...      1        1      1     1     1      5        6  12   9     11  \n",
      "647  ...      2        4      5     3     4      2        6  10  10     10  \n",
      "648  ...      4        4      1     3     4      5        4  11  11     10  \n",
      "\n",
      "[649 rows x 33 columns]\n"
     ]
    }
   ],
   "source": [
    "\n",
    "# Define X and y\n",
    "X = data.drop(columns=[\"G1\"])\n",
    "y = data[\"G1\"]\n",
    "\n",
    "# Adding the target to the dataframe (optional, for completeness of the example)\n",
    "X[\"target\"] = y\n",
    "\n",
    "# Display X\n",
    "print(X)"
   ]
  },
  {
   "cell_type": "code",
   "execution_count": null,
   "metadata": {},
   "outputs": [],
   "source": [
    "# Preprocessing data with OneHotEncoder or StandardScaler is not needed or recommended. Synthcity handles feature encoding and standardization internally\n",
    "\n",
    "loader = GenericDataLoader(\n",
    "    data,\n",
    "    target_column=\"G1\",\n",
    ")"
   ]
  },
  {
   "cell_type": "markdown",
   "metadata": {},
   "source": [
    "## List available generative models "
   ]
  },
  {
   "cell_type": "code",
   "execution_count": 6,
   "metadata": {},
   "outputs": [
    {
     "ename": "",
     "evalue": "",
     "output_type": "error",
     "traceback": [
      "\u001b[1;31mThe Kernel crashed while executing code in the the current cell or a previous cell. Please review the code in the cell(s) to identify a possible cause of the failure. Click <a href='https://aka.ms/vscodeJupyterKernelCrash'>here</a> for more info. View Jupyter <a href='command:jupyter.viewOutput'>log</a> for further details."
     ]
    }
   ],
   "source": [
    "# synthcity absolute\n",
    "from synthcity.plugins import Plugins\n",
    "\n",
    "Plugins().list()"
   ]
  },
  {
   "cell_type": "markdown",
   "metadata": {},
   "source": [
    "## Load and Train a generative model"
   ]
  },
  {
   "cell_type": "code",
   "execution_count": null,
   "metadata": {},
   "outputs": [],
   "source": [
    "# synthcity absolute\n",
    "from synthcity.plugins import Plugins\n",
    "\n",
    "syn_model = Plugins().get(\"adsgan\")\n",
    "\n",
    "syn_model.fit(loader)"
   ]
  },
  {
   "cell_type": "markdown",
   "metadata": {},
   "source": [
    "## Generate synthetic data using model"
   ]
  },
  {
   "cell_type": "code",
   "execution_count": null,
   "metadata": {},
   "outputs": [],
   "source": [
    "syn_model.generate(count=649).dataframe()"
   ]
  },
  {
   "cell_type": "markdown",
   "metadata": {},
   "source": [
    "## Generate new data using conditionals "
   ]
  },
  {
   "cell_type": "markdown",
   "metadata": {},
   "source": []
  }
 ],
 "metadata": {
  "kernelspec": {
   "display_name": "base",
   "language": "python",
   "name": "python3"
  },
  "language_info": {
   "codemirror_mode": {
    "name": "ipython",
    "version": 3
   },
   "file_extension": ".py",
   "mimetype": "text/x-python",
   "name": "python",
   "nbconvert_exporter": "python",
   "pygments_lexer": "ipython3",
   "version": "3.9.13"
  }
 },
 "nbformat": 4,
 "nbformat_minor": 2
}
